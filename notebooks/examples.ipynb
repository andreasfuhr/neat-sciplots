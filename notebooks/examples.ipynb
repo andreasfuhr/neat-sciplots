{
 "cells": [
  {
   "cell_type": "markdown",
   "source": [
    "# Examples of plotting\n",
    "\n",
    "## Standard line plot"
   ],
   "metadata": {
    "collapsed": false,
    "pycharm": {
     "name": "#%% md\n"
    }
   }
  },
  {
   "cell_type": "code",
   "execution_count": 11,
   "outputs": [
    {
     "ename": "AttributeError",
     "evalue": "module 'sciplot' has no attribute 'style'",
     "output_type": "error",
     "traceback": [
      "\u001B[0;31m---------------------------------------------------------------------------\u001B[0m",
      "\u001B[0;31mAttributeError\u001B[0m                            Traceback (most recent call last)",
      "\u001B[0;32m<ipython-input-11-89e99439fe81>\u001B[0m in \u001B[0;36m<module>\u001B[0;34m\u001B[0m\n\u001B[1;32m      7\u001B[0m \u001B[0;34m\u001B[0m\u001B[0m\n\u001B[1;32m      8\u001B[0m \u001B[0;34m\u001B[0m\u001B[0m\n\u001B[0;32m----> 9\u001B[0;31m \u001B[0;32mwith\u001B[0m \u001B[0msciplot\u001B[0m\u001B[0;34m.\u001B[0m\u001B[0mstyle\u001B[0m\u001B[0;34m(\u001B[0m\u001B[0;34m)\u001B[0m\u001B[0;34m:\u001B[0m\u001B[0;34m\u001B[0m\u001B[0;34m\u001B[0m\u001B[0m\n\u001B[0m\u001B[1;32m     10\u001B[0m     \u001B[0mx_m\u001B[0m \u001B[0;34m=\u001B[0m \u001B[0;36m2\u001B[0m  \u001B[0;31m# scale\u001B[0m\u001B[0;34m\u001B[0m\u001B[0;34m\u001B[0m\u001B[0m\n\u001B[1;32m     11\u001B[0m     \u001B[0malpha_lst\u001B[0m \u001B[0;34m=\u001B[0m \u001B[0;34m[\u001B[0m\u001B[0;36m1\u001B[0m\u001B[0;34m,\u001B[0m \u001B[0;36m2\u001B[0m\u001B[0;34m,\u001B[0m \u001B[0;36m3\u001B[0m\u001B[0;34m,\u001B[0m \u001B[0;36m4\u001B[0m\u001B[0;34m]\u001B[0m  \u001B[0;31m# shape parameters\u001B[0m\u001B[0;34m\u001B[0m\u001B[0;34m\u001B[0m\u001B[0m\n",
      "\u001B[0;31mAttributeError\u001B[0m: module 'sciplot' has no attribute 'style'"
     ]
    }
   ],
   "source": [
    "import numpy as np\n",
    "from scipy.stats import pareto\n",
    "import matplotlib.pyplot as plt\n",
    "\n",
    "import sciplot.sciplot as sciplot\n",
    "\n",
    "\n",
    "with sciplot.style():\n",
    "    x_m = 2  # scale\n",
    "    alpha_lst = [1, 2, 3, 4]  # shape parameters\n",
    "    x = np.linspace(0, 6, 1000)\n",
    "\n",
    "    pdf = np.array([pareto.pdf(x, scale=x_m, b=a) for a in alpha_lst])\n",
    "\n",
    "    sciplot.set_size_cm(7)\n",
    "    fig, ax = plt.subplots(1, 1)\n",
    "\n",
    "    fig.suptitle(r'Pareto PDF' +\n",
    "                 r' $p(x \\,|\\, x_\\mathrm{m}, \\alpha) = \\frac{\\alpha x_\\mathrm{m}^\\alpha}{x^{\\alpha+1}}$' +\n",
    "                 r' with $x_\\mathrm{m}=2$')\n",
    "\n",
    "    line_plot = ax.plot(x, pdf.T)\n",
    "\n",
    "    label_lst = []\n",
    "    for alpha in alpha_lst:\n",
    "        label_lst.append(r'$\\alpha=' + str(alpha) + '$')\n",
    "\n",
    "    sciplot.set_legend(\n",
    "        ax=ax,\n",
    "        plot_tpl=line_plot,\n",
    "        label_tpl=tuple(label_lst),\n",
    "        loc='upper right'\n",
    "    )\n",
    "\n",
    "    ax.set_xlabel('$x$')\n",
    "    ax.set_ylabel(r'$p(x \\,|\\, x_\\mathrm{m}, \\alpha)$')\n",
    "\n",
    "    plt.show()"
   ],
   "metadata": {
    "collapsed": false,
    "pycharm": {
     "name": "#%%\n"
    }
   }
  },
  {
   "cell_type": "markdown",
   "source": [
    "## Dark themed histogram plot"
   ],
   "metadata": {
    "collapsed": false,
    "pycharm": {
     "name": "#%% md\n"
    }
   }
  },
  {
   "cell_type": "code",
   "execution_count": 8,
   "outputs": [
    {
     "ename": "AttributeError",
     "evalue": "module 'sciplot' has no attribute 'style'",
     "output_type": "error",
     "traceback": [
      "\u001B[0;31m---------------------------------------------------------------------------\u001B[0m",
      "\u001B[0;31mAttributeError\u001B[0m                            Traceback (most recent call last)",
      "\u001B[0;32m<ipython-input-8-263e2fc327ad>\u001B[0m in \u001B[0;36m<module>\u001B[0;34m\u001B[0m\n\u001B[1;32m      6\u001B[0m \u001B[0;34m\u001B[0m\u001B[0m\n\u001B[1;32m      7\u001B[0m \u001B[0;34m\u001B[0m\u001B[0m\n\u001B[0;32m----> 8\u001B[0;31m \u001B[0;32mwith\u001B[0m \u001B[0msciplot\u001B[0m\u001B[0;34m.\u001B[0m\u001B[0mstyle\u001B[0m\u001B[0;34m(\u001B[0m\u001B[0mtheme\u001B[0m\u001B[0;34m=\u001B[0m\u001B[0;34m'dark'\u001B[0m\u001B[0;34m,\u001B[0m \u001B[0mfont_style\u001B[0m\u001B[0;34m=\u001B[0m\u001B[0;34m'serif'\u001B[0m\u001B[0;34m)\u001B[0m\u001B[0;34m:\u001B[0m\u001B[0;34m\u001B[0m\u001B[0;34m\u001B[0m\u001B[0m\n\u001B[0m\u001B[1;32m      9\u001B[0m     \u001B[0mnp\u001B[0m\u001B[0;34m.\u001B[0m\u001B[0mrandom\u001B[0m\u001B[0;34m.\u001B[0m\u001B[0mseed\u001B[0m\u001B[0;34m(\u001B[0m\u001B[0;36m42\u001B[0m\u001B[0;34m)\u001B[0m\u001B[0;34m\u001B[0m\u001B[0;34m\u001B[0m\u001B[0m\n\u001B[1;32m     10\u001B[0m     \u001B[0mn\u001B[0m \u001B[0;34m=\u001B[0m \u001B[0;36m10000\u001B[0m\u001B[0;34m\u001B[0m\u001B[0;34m\u001B[0m\u001B[0m\n",
      "\u001B[0;31mAttributeError\u001B[0m: module 'sciplot' has no attribute 'style'"
     ]
    }
   ],
   "source": [
    "import numpy as np\n",
    "import matplotlib.pyplot as plt\n",
    "from matplotlib.patches import Rectangle\n",
    "\n",
    "import sciplot.sciplot as sciplot\n",
    "\n",
    "\n",
    "with sciplot.style(theme='dark', font_style='serif'):\n",
    "    np.random.seed(42)\n",
    "    n = 10000\n",
    "    mean_ar = np.array([4.5, 6.1, 8.3])\n",
    "    std_ar = np.array([0.2, 0.9, 0.5])\n",
    "    data_ar = np.array([\n",
    "        np.random.normal(mean_ar[0], std_ar[0], n),\n",
    "        np.random.normal(mean_ar[1], std_ar[1], n),\n",
    "        np.random.normal(mean_ar[2], std_ar[2], n)\n",
    "    ])\n",
    "\n",
    "    sciplot.set_size_cm(16, 8)\n",
    "    fig, ax = plt.subplots(1, 1)\n",
    "\n",
    "    fig.suptitle('Histogram of normally distributed velocities with \\SI{' + str(n) + '}{} samples')\n",
    "\n",
    "\n",
    "    plot_lst = []\n",
    "    color_lst = sciplot.get_color_lst(len(data_ar), seaborn_color_map='rocket', colorful=False)\n",
    "\n",
    "    for i, data in enumerate(data_ar):\n",
    "        ax.hist(data, density=True, bins=100, alpha=0.7, color=color_lst[i])\n",
    "        plot_lst.append(Rectangle((0, 0), 1, 1, color=color_lst[i], alpha=0.7))\n",
    "\n",
    "    label_lst = []\n",
    "    for i in range(len(data_ar)):\n",
    "        label_lst.append(r'$\\mu=\\SI{' + str(mean_ar[i]) + '}{}$, $\\sigma=\\SI{' + str(std_ar[i]) + '}{}$')\n",
    "\n",
    "    sciplot.set_legend(\n",
    "        ax=ax,\n",
    "        plot_tpl=tuple(plot_lst),\n",
    "        label_tpl=tuple(label_lst),\n",
    "        loc='lower right',\n",
    "        outside_plot=True\n",
    "    )\n",
    "\n",
    "    ax.set_xlabel('Velocity (\\si{\\metre\\per\\second})')\n",
    "    ax.set_ylabel(r'Relative frequency')\n",
    "\n",
    "    plt.show()"
   ],
   "metadata": {
    "collapsed": false,
    "pycharm": {
     "name": "#%%\n"
    }
   }
  },
  {
   "cell_type": "code",
   "execution_count": null,
   "outputs": [],
   "source": [
    "\n"
   ],
   "metadata": {
    "collapsed": false,
    "pycharm": {
     "name": "#%%\n"
    }
   }
  }
 ],
 "metadata": {
  "kernelspec": {
   "display_name": "Python 3",
   "language": "python",
   "name": "python3"
  },
  "language_info": {
   "codemirror_mode": {
    "name": "ipython",
    "version": 2
   },
   "file_extension": ".py",
   "mimetype": "text/x-python",
   "name": "python",
   "nbconvert_exporter": "python",
   "pygments_lexer": "ipython2",
   "version": "2.7.6"
  }
 },
 "nbformat": 4,
 "nbformat_minor": 0
}